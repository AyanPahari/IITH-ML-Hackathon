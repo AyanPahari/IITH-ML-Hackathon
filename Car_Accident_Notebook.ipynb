{
 "cells": [
  {
   "cell_type": "markdown",
   "id": "3e5e9fcc",
   "metadata": {},
   "source": [
    "# <center><em>IITH Hackathon: Driver Fault Classification</em></center>"
   ]
  },
  {
   "cell_type": "markdown",
   "id": "139e0c30",
   "metadata": {},
   "source": [
    "___\n",
    "\n",
    "<a href='https://www.kaggle.com/c/Foml-2021/overview'><img src='header.png'/></a>\n",
    "___"
   ]
  },
  {
   "cell_type": "markdown",
   "id": "313f3fe3",
   "metadata": {},
   "source": [
    "### Importing the necessary modules"
   ]
  },
  {
   "cell_type": "code",
   "execution_count": 1,
   "id": "983990d7",
   "metadata": {},
   "outputs": [],
   "source": [
    "import pandas as pd\n",
    "import numpy as np\n",
    "import seaborn as sns\n",
    "import matplotlib.pyplot as plt\n",
    "\n",
    "import warnings\n",
    "warnings.filterwarnings(\"ignore\")\n",
    "\n",
    "from sklearn.model_selection import train_test_split\n",
    "from sklearn.ensemble import GradientBoostingClassifier\n",
    "from sklearn.ensemble import RandomForestClassifier \n",
    "from sklearn.metrics import accuracy_score\n",
    "import xgboost as xgb"
   ]
  },
  {
   "cell_type": "markdown",
   "id": "fc21f570",
   "metadata": {},
   "source": [
    "### Loading the training data"
   ]
  },
  {
   "cell_type": "code",
   "execution_count": 2,
   "id": "268ddfba",
   "metadata": {
    "scrolled": true
   },
   "outputs": [
    {
     "data": {
      "text/html": [
       "<div>\n",
       "<style scoped>\n",
       "    .dataframe tbody tr th:only-of-type {\n",
       "        vertical-align: middle;\n",
       "    }\n",
       "\n",
       "    .dataframe tbody tr th {\n",
       "        vertical-align: top;\n",
       "    }\n",
       "\n",
       "    .dataframe thead th {\n",
       "        text-align: right;\n",
       "    }\n",
       "</style>\n",
       "<table border=\"1\" class=\"dataframe\">\n",
       "  <thead>\n",
       "    <tr style=\"text-align: right;\">\n",
       "      <th></th>\n",
       "      <th>Report Number</th>\n",
       "      <th>Local Case Number</th>\n",
       "      <th>Agency Name</th>\n",
       "      <th>ACRS Report Type</th>\n",
       "      <th>Crash Date/Time</th>\n",
       "      <th>Route Type</th>\n",
       "      <th>Road Name</th>\n",
       "      <th>Cross-Street Type</th>\n",
       "      <th>Cross-Street Name</th>\n",
       "      <th>Off-Road Description</th>\n",
       "      <th>...</th>\n",
       "      <th>Driverless Vehicle</th>\n",
       "      <th>Parked Vehicle</th>\n",
       "      <th>Vehicle Year</th>\n",
       "      <th>Vehicle Make</th>\n",
       "      <th>Vehicle Model</th>\n",
       "      <th>Equipment Problems</th>\n",
       "      <th>Latitude</th>\n",
       "      <th>Longitude</th>\n",
       "      <th>Location</th>\n",
       "      <th>Fault</th>\n",
       "    </tr>\n",
       "  </thead>\n",
       "  <tbody>\n",
       "    <tr>\n",
       "      <th>0</th>\n",
       "      <td>MP060D</td>\n",
       "      <td>10196</td>\n",
       "      <td>Montgomery County Police</td>\n",
       "      <td>Injury Crash</td>\n",
       "      <td>2017-06-05 16:27:00</td>\n",
       "      <td>Maryland (State)</td>\n",
       "      <td>OLD HUNDRED RD</td>\n",
       "      <td>County</td>\n",
       "      <td>THURSTON RD</td>\n",
       "      <td>12305 SHOREFIELD RD</td>\n",
       "      <td>...</td>\n",
       "      <td>No</td>\n",
       "      <td>No</td>\n",
       "      <td>2005</td>\n",
       "      <td>GMC</td>\n",
       "      <td>TRUCK</td>\n",
       "      <td>NO MISUSE</td>\n",
       "      <td>39.263378</td>\n",
       "      <td>-77.344203</td>\n",
       "      <td>3.6383 7.4233</td>\n",
       "      <td>1</td>\n",
       "    </tr>\n",
       "    <tr>\n",
       "      <th>1</th>\n",
       "      <td>MP000X</td>\n",
       "      <td>20080</td>\n",
       "      <td>Montgomery County Police</td>\n",
       "      <td>Injury Crash</td>\n",
       "      <td>2020-02-22 10:00:00</td>\n",
       "      <td>County</td>\n",
       "      <td>JANET RD</td>\n",
       "      <td>County</td>\n",
       "      <td>FLACK ST</td>\n",
       "      <td>NaN</td>\n",
       "      <td>...</td>\n",
       "      <td>No</td>\n",
       "      <td>Yes</td>\n",
       "      <td>2018</td>\n",
       "      <td>FORD</td>\n",
       "      <td>FIESTA</td>\n",
       "      <td>NO MISUSE</td>\n",
       "      <td>39.068913</td>\n",
       "      <td>-77.063227</td>\n",
       "      <td>3.0862 7.324</td>\n",
       "      <td>1</td>\n",
       "    </tr>\n",
       "    <tr>\n",
       "      <th>2</th>\n",
       "      <td>MP070N</td>\n",
       "      <td>10103</td>\n",
       "      <td>Montgomery County Police</td>\n",
       "      <td>Property Damage Crash</td>\n",
       "      <td>2017-06-11 08:21:00</td>\n",
       "      <td>Maryland (State)</td>\n",
       "      <td>COLESVILLE RD</td>\n",
       "      <td>Maryland (State)</td>\n",
       "      <td>STRUC #15082</td>\n",
       "      <td>NaN</td>\n",
       "      <td>...</td>\n",
       "      <td>No</td>\n",
       "      <td>No</td>\n",
       "      <td>2016</td>\n",
       "      <td>NEW FLYER</td>\n",
       "      <td>TBU</td>\n",
       "      <td>NO MISUSE</td>\n",
       "      <td>38.993578</td>\n",
       "      <td>-77.032718</td>\n",
       "      <td>3.9583 7.3783</td>\n",
       "      <td>0</td>\n",
       "    </tr>\n",
       "    <tr>\n",
       "      <th>3</th>\n",
       "      <td>MP130Y</td>\n",
       "      <td>10208</td>\n",
       "      <td>Montgomery County Police</td>\n",
       "      <td>Injury Crash</td>\n",
       "      <td>2019-05-10 07:30:00</td>\n",
       "      <td>County</td>\n",
       "      <td>PARKLAND DR</td>\n",
       "      <td>County</td>\n",
       "      <td>FRANKFORT DR</td>\n",
       "      <td>NaN</td>\n",
       "      <td>...</td>\n",
       "      <td>No</td>\n",
       "      <td>No</td>\n",
       "      <td>2001</td>\n",
       "      <td>CHEV</td>\n",
       "      <td>SUBURBAN</td>\n",
       "      <td>OTHER</td>\n",
       "      <td>39.083480</td>\n",
       "      <td>-77.086933</td>\n",
       "      <td>3.84,-70633</td>\n",
       "      <td>1</td>\n",
       "    </tr>\n",
       "    <tr>\n",
       "      <th>4</th>\n",
       "      <td>MP770Y</td>\n",
       "      <td>1091</td>\n",
       "      <td>Montgomery County Police</td>\n",
       "      <td>Injury Crash</td>\n",
       "      <td>2016-08-02 17:00:00</td>\n",
       "      <td>Maryland (State)</td>\n",
       "      <td>OLD GEORGETOWN RD</td>\n",
       "      <td>County</td>\n",
       "      <td>MCKINLEY ST</td>\n",
       "      <td>NaN</td>\n",
       "      <td>...</td>\n",
       "      <td>No</td>\n",
       "      <td>No</td>\n",
       "      <td>2013</td>\n",
       "      <td>KIA</td>\n",
       "      <td>RIO</td>\n",
       "      <td>NO MISUSE</td>\n",
       "      <td>38.996942</td>\n",
       "      <td>-77.109168</td>\n",
       "      <td>3.9917 7.0183</td>\n",
       "      <td>0</td>\n",
       "    </tr>\n",
       "  </tbody>\n",
       "</table>\n",
       "<p>5 rows × 42 columns</p>\n",
       "</div>"
      ],
      "text/plain": [
       "  Report Number Local Case Number               Agency Name  \\\n",
       "0        MP060D             10196  Montgomery County Police   \n",
       "1        MP000X             20080  Montgomery County Police   \n",
       "2        MP070N             10103  Montgomery County Police   \n",
       "3        MP130Y             10208  Montgomery County Police   \n",
       "4        MP770Y              1091  Montgomery County Police   \n",
       "\n",
       "        ACRS Report Type     Crash Date/Time        Route Type  \\\n",
       "0           Injury Crash 2017-06-05 16:27:00  Maryland (State)   \n",
       "1           Injury Crash 2020-02-22 10:00:00            County   \n",
       "2  Property Damage Crash 2017-06-11 08:21:00  Maryland (State)   \n",
       "3           Injury Crash 2019-05-10 07:30:00            County   \n",
       "4           Injury Crash 2016-08-02 17:00:00  Maryland (State)   \n",
       "\n",
       "           Road Name Cross-Street Type Cross-Street Name Off-Road Description  \\\n",
       "0     OLD HUNDRED RD            County       THURSTON RD  12305 SHOREFIELD RD   \n",
       "1           JANET RD            County          FLACK ST                  NaN   \n",
       "2      COLESVILLE RD  Maryland (State)      STRUC #15082                  NaN   \n",
       "3        PARKLAND DR            County      FRANKFORT DR                  NaN   \n",
       "4  OLD GEORGETOWN RD            County       MCKINLEY ST                  NaN   \n",
       "\n",
       "   ... Driverless Vehicle Parked Vehicle Vehicle Year Vehicle Make  \\\n",
       "0  ...                 No             No         2005          GMC   \n",
       "1  ...                 No            Yes         2018         FORD   \n",
       "2  ...                 No             No         2016    NEW FLYER   \n",
       "3  ...                 No             No         2001         CHEV   \n",
       "4  ...                 No             No         2013          KIA   \n",
       "\n",
       "  Vehicle Model Equipment Problems   Latitude  Longitude       Location Fault  \n",
       "0         TRUCK          NO MISUSE  39.263378 -77.344203  3.6383 7.4233     1  \n",
       "1        FIESTA          NO MISUSE  39.068913 -77.063227   3.0862 7.324     1  \n",
       "2           TBU          NO MISUSE  38.993578 -77.032718  3.9583 7.3783     0  \n",
       "3      SUBURBAN              OTHER  39.083480 -77.086933    3.84,-70633     1  \n",
       "4           RIO          NO MISUSE  38.996942 -77.109168  3.9917 7.0183     0  \n",
       "\n",
       "[5 rows x 42 columns]"
      ]
     },
     "execution_count": 2,
     "metadata": {},
     "output_type": "execute_result"
    }
   ],
   "source": [
    "df = pd.read_csv(\"train_accident.csv\",parse_dates = ['Crash Date/Time'])\n",
    "df.head()"
   ]
  },
  {
   "cell_type": "code",
   "execution_count": 3,
   "id": "b5940245",
   "metadata": {
    "scrolled": true
   },
   "outputs": [
    {
     "data": {
      "text/plain": [
       "(51490, 42)"
      ]
     },
     "execution_count": 3,
     "metadata": {},
     "output_type": "execute_result"
    }
   ],
   "source": [
    "df.shape"
   ]
  },
  {
   "cell_type": "markdown",
   "id": "e27ea783",
   "metadata": {},
   "source": [
    "### Pre-processing and EDA of the training data"
   ]
  },
  {
   "cell_type": "code",
   "execution_count": 4,
   "id": "97cfad25",
   "metadata": {
    "scrolled": false
   },
   "outputs": [],
   "source": [
    "def extract(data):\n",
    "    return data[:1]\n",
    "\n",
    "df['Report Category'] = df['Report Number'].apply(extract)"
   ]
  },
  {
   "cell_type": "code",
   "execution_count": 5,
   "id": "f5ebc5ec",
   "metadata": {},
   "outputs": [
    {
     "data": {
      "text/plain": [
       "M    45104\n",
       "D     3835\n",
       "E     2208\n",
       "H      343\n",
       "Name: Report Category, dtype: int64"
      ]
     },
     "execution_count": 5,
     "metadata": {},
     "output_type": "execute_result"
    }
   ],
   "source": [
    "df['Report Category'].value_counts()"
   ]
  },
  {
   "cell_type": "code",
   "execution_count": 6,
   "id": "6892b4c6",
   "metadata": {
    "scrolled": true
   },
   "outputs": [
    {
     "data": {
      "text/plain": [
       "Report Number                         0\n",
       "Local Case Number                  6453\n",
       "Agency Name                           0\n",
       "ACRS Report Type                      0\n",
       "Crash Date/Time                       0\n",
       "Route Type                         4968\n",
       "Road Name                          4502\n",
       "Cross-Street Type                  5019\n",
       "Cross-Street Name                  4522\n",
       "Off-Road Description              44540\n",
       "Municipality                      43923\n",
       "Related Non-Motorist              47842\n",
       "Collision Type                      299\n",
       "Weather                            4029\n",
       "Surface Condition                  5879\n",
       "Light                               704\n",
       "Traffic Control                    7774\n",
       "Driver Substance Abuse             9095\n",
       "Non-Motorist Substance Abuse      48106\n",
       "Person ID                             0\n",
       "Injury Severity                       0\n",
       "Circumstance                      39738\n",
       "Drivers License State              2528\n",
       "Vehicle ID                            0\n",
       "Vehicle Damage Extent               397\n",
       "Vehicle First Impact Location       222\n",
       "Vehicle Second Impact Location      234\n",
       "Vehicle Body Type                   785\n",
       "Vehicle Movement                    198\n",
       "Vehicle Continuing Dir             1129\n",
       "Vehicle Going Dir                  1113\n",
       "Speed Limit                           0\n",
       "Driverless Vehicle                    0\n",
       "Parked Vehicle                        0\n",
       "Vehicle Year                          0\n",
       "Vehicle Make                          8\n",
       "Vehicle Model                        19\n",
       "Equipment Problems                10666\n",
       "Latitude                              0\n",
       "Longitude                             0\n",
       "Location                              0\n",
       "Fault                                 0\n",
       "Report Category                       0\n",
       "dtype: int64"
      ]
     },
     "execution_count": 6,
     "metadata": {},
     "output_type": "execute_result"
    }
   ],
   "source": [
    "df.isnull().sum()"
   ]
  },
  {
   "cell_type": "code",
   "execution_count": 7,
   "id": "a671af26",
   "metadata": {},
   "outputs": [],
   "source": [
    "# dropped because of high occurence of nan values\n",
    "df.drop(['Off-Road Description','Municipality','Related Non-Motorist','Non-Motorist Substance Abuse','Circumstance','Person ID','Vehicle ID'], axis = 1, inplace = True)\n"
   ]
  },
  {
   "cell_type": "code",
   "execution_count": 8,
   "id": "70604eb8",
   "metadata": {},
   "outputs": [
    {
     "data": {
      "text/plain": [
       "(51490, 36)"
      ]
     },
     "execution_count": 8,
     "metadata": {},
     "output_type": "execute_result"
    }
   ],
   "source": [
    "df.shape   "
   ]
  },
  {
   "cell_type": "code",
   "execution_count": 9,
   "id": "ebe6a65c",
   "metadata": {},
   "outputs": [
    {
     "data": {
      "text/plain": [
       "Report Number                         0\n",
       "Local Case Number                  6453\n",
       "Agency Name                           0\n",
       "ACRS Report Type                      0\n",
       "Crash Date/Time                       0\n",
       "Route Type                         4968\n",
       "Road Name                          4502\n",
       "Cross-Street Type                  5019\n",
       "Cross-Street Name                  4522\n",
       "Collision Type                      299\n",
       "Weather                            4029\n",
       "Surface Condition                  5879\n",
       "Light                               704\n",
       "Traffic Control                    7774\n",
       "Driver Substance Abuse             9095\n",
       "Injury Severity                       0\n",
       "Drivers License State              2528\n",
       "Vehicle Damage Extent               397\n",
       "Vehicle First Impact Location       222\n",
       "Vehicle Second Impact Location      234\n",
       "Vehicle Body Type                   785\n",
       "Vehicle Movement                    198\n",
       "Vehicle Continuing Dir             1129\n",
       "Vehicle Going Dir                  1113\n",
       "Speed Limit                           0\n",
       "Driverless Vehicle                    0\n",
       "Parked Vehicle                        0\n",
       "Vehicle Year                          0\n",
       "Vehicle Make                          8\n",
       "Vehicle Model                        19\n",
       "Equipment Problems                10666\n",
       "Latitude                              0\n",
       "Longitude                             0\n",
       "Location                              0\n",
       "Fault                                 0\n",
       "Report Category                       0\n",
       "dtype: int64"
      ]
     },
     "execution_count": 9,
     "metadata": {},
     "output_type": "execute_result"
    }
   ],
   "source": [
    "df.isnull().sum()"
   ]
  },
  {
   "cell_type": "code",
   "execution_count": 10,
   "id": "6c046b3b",
   "metadata": {
    "scrolled": true
   },
   "outputs": [
    {
     "data": {
      "image/png": "[encoded data removed]",
      "text/plain": [
       "<Figure size 720x288 with 1 Axes>"
      ]
     },
     "metadata": {
      "needs_background": "light"
     },
     "output_type": "display_data"
    }
   ],
   "source": [
    "plt.figure(figsize = (10,4))\n",
    "sns.countplot(data = df, x = 'Report Category', hue = 'Fault')\n",
    "#plt.ylim(0,500)\n",
    "plt.xticks(rotation = 90)\n",
    "plt.show()"
   ]
  },
  {
   "cell_type": "code",
   "execution_count": 11,
   "id": "4a342464",
   "metadata": {},
   "outputs": [],
   "source": [
    "df['Crash_day'] = df['Crash Date/Time'].dt.day\n",
    "df['Crash_hour'] = df['Crash Date/Time'].dt.hour\n",
    "df['Crash_month'] = df['Crash Date/Time'].dt.month\n",
    "df['Crash_year'] = df['Crash Date/Time'].dt.year\n",
    "df['Crash_day_of_week'] = df['Crash Date/Time'].dt.dayofweek\n",
    "df.drop('Crash Date/Time',axis='columns', inplace=True)"
   ]
  },
  {
   "cell_type": "code",
   "execution_count": 12,
   "id": "c93f32fa",
   "metadata": {
    "scrolled": true
   },
   "outputs": [
    {
     "data": {
      "image/png": "[encoded data removed]",
      "text/plain": [
       "<Figure size 432x288 with 1 Axes>"
      ]
     },
     "metadata": {
      "needs_background": "light"
     },
     "output_type": "display_data"
    }
   ],
   "source": [
    "sns.barplot(data = df, x = df['Location'].value_counts()[:10].index, y = df['Location'].value_counts()[:10].values)\n",
    "plt.xticks(rotation = 90)\n",
    "plt.show()"
   ]
  },
  {
   "cell_type": "code",
   "execution_count": 13,
   "id": "f6958eab",
   "metadata": {
    "scrolled": true
   },
   "outputs": [
    {
     "data": {
      "image/png": "[encoded data removed]",
      "text/plain": [
       "<Figure size 432x288 with 1 Axes>"
      ]
     },
     "metadata": {
      "needs_background": "light"
     },
     "output_type": "display_data"
    }
   ],
   "source": [
    "# almost balanced class label\n",
    "sns.countplot(data = df, x = 'Fault')\n",
    "plt.show()"
   ]
  },
  {
   "cell_type": "code",
   "execution_count": 14,
   "id": "721feffa",
   "metadata": {},
   "outputs": [],
   "source": [
    "# let's check latitude and longitude value ranges"
   ]
  },
  {
   "cell_type": "code",
   "execution_count": 15,
   "id": "c8b47a48",
   "metadata": {
    "scrolled": true
   },
   "outputs": [
    {
     "data": {
      "text/html": [
       "<div>\n",
       "<style scoped>\n",
       "    .dataframe tbody tr th:only-of-type {\n",
       "        vertical-align: middle;\n",
       "    }\n",
       "\n",
       "    .dataframe tbody tr th {\n",
       "        vertical-align: top;\n",
       "    }\n",
       "\n",
       "    .dataframe thead th {\n",
       "        text-align: right;\n",
       "    }\n",
       "</style>\n",
       "<table border=\"1\" class=\"dataframe\">\n",
       "  <thead>\n",
       "    <tr style=\"text-align: right;\">\n",
       "      <th></th>\n",
       "      <th>Report Number</th>\n",
       "      <th>Local Case Number</th>\n",
       "      <th>Agency Name</th>\n",
       "      <th>ACRS Report Type</th>\n",
       "      <th>Route Type</th>\n",
       "      <th>Road Name</th>\n",
       "      <th>Cross-Street Type</th>\n",
       "      <th>Cross-Street Name</th>\n",
       "      <th>Collision Type</th>\n",
       "      <th>Weather</th>\n",
       "      <th>...</th>\n",
       "      <th>Latitude</th>\n",
       "      <th>Longitude</th>\n",
       "      <th>Location</th>\n",
       "      <th>Fault</th>\n",
       "      <th>Report Category</th>\n",
       "      <th>Crash_day</th>\n",
       "      <th>Crash_hour</th>\n",
       "      <th>Crash_month</th>\n",
       "      <th>Crash_year</th>\n",
       "      <th>Crash_day_of_week</th>\n",
       "    </tr>\n",
       "  </thead>\n",
       "  <tbody>\n",
       "  </tbody>\n",
       "</table>\n",
       "<p>0 rows × 40 columns</p>\n",
       "</div>"
      ],
      "text/plain": [
       "Empty DataFrame\n",
       "Columns: [Report Number, Local Case Number, Agency Name, ACRS Report Type, Route Type, Road Name, Cross-Street Type, Cross-Street Name, Collision Type, Weather, Surface Condition, Light, Traffic Control, Driver Substance Abuse, Injury Severity, Drivers License State, Vehicle Damage Extent, Vehicle First Impact Location, Vehicle Second Impact Location, Vehicle Body Type, Vehicle Movement, Vehicle Continuing Dir, Vehicle Going Dir, Speed Limit, Driverless Vehicle, Parked Vehicle, Vehicle Year, Vehicle Make, Vehicle Model, Equipment Problems, Latitude, Longitude, Location, Fault, Report Category, Crash_day, Crash_hour, Crash_month, Crash_year, Crash_day_of_week]\n",
       "Index: []\n",
       "\n",
       "[0 rows x 40 columns]"
      ]
     },
     "execution_count": 15,
     "metadata": {},
     "output_type": "execute_result"
    }
   ],
   "source": [
    "df[(df['Latitude'] < -90) | (df['Latitude'] > 90)] "
   ]
  },
  {
   "cell_type": "code",
   "execution_count": 16,
   "id": "93542a20",
   "metadata": {},
   "outputs": [
    {
     "data": {
      "text/html": [
       "<div>\n",
       "<style scoped>\n",
       "    .dataframe tbody tr th:only-of-type {\n",
       "        vertical-align: middle;\n",
       "    }\n",
       "\n",
       "    .dataframe tbody tr th {\n",
       "        vertical-align: top;\n",
       "    }\n",
       "\n",
       "    .dataframe thead th {\n",
       "        text-align: right;\n",
       "    }\n",
       "</style>\n",
       "<table border=\"1\" class=\"dataframe\">\n",
       "  <thead>\n",
       "    <tr style=\"text-align: right;\">\n",
       "      <th></th>\n",
       "      <th>Report Number</th>\n",
       "      <th>Local Case Number</th>\n",
       "      <th>Agency Name</th>\n",
       "      <th>ACRS Report Type</th>\n",
       "      <th>Route Type</th>\n",
       "      <th>Road Name</th>\n",
       "      <th>Cross-Street Type</th>\n",
       "      <th>Cross-Street Name</th>\n",
       "      <th>Collision Type</th>\n",
       "      <th>Weather</th>\n",
       "      <th>...</th>\n",
       "      <th>Latitude</th>\n",
       "      <th>Longitude</th>\n",
       "      <th>Location</th>\n",
       "      <th>Fault</th>\n",
       "      <th>Report Category</th>\n",
       "      <th>Crash_day</th>\n",
       "      <th>Crash_hour</th>\n",
       "      <th>Crash_month</th>\n",
       "      <th>Crash_year</th>\n",
       "      <th>Crash_day_of_week</th>\n",
       "    </tr>\n",
       "  </thead>\n",
       "  <tbody>\n",
       "  </tbody>\n",
       "</table>\n",
       "<p>0 rows × 40 columns</p>\n",
       "</div>"
      ],
      "text/plain": [
       "Empty DataFrame\n",
       "Columns: [Report Number, Local Case Number, Agency Name, ACRS Report Type, Route Type, Road Name, Cross-Street Type, Cross-Street Name, Collision Type, Weather, Surface Condition, Light, Traffic Control, Driver Substance Abuse, Injury Severity, Drivers License State, Vehicle Damage Extent, Vehicle First Impact Location, Vehicle Second Impact Location, Vehicle Body Type, Vehicle Movement, Vehicle Continuing Dir, Vehicle Going Dir, Speed Limit, Driverless Vehicle, Parked Vehicle, Vehicle Year, Vehicle Make, Vehicle Model, Equipment Problems, Latitude, Longitude, Location, Fault, Report Category, Crash_day, Crash_hour, Crash_month, Crash_year, Crash_day_of_week]\n",
       "Index: []\n",
       "\n",
       "[0 rows x 40 columns]"
      ]
     },
     "execution_count": 16,
     "metadata": {},
     "output_type": "execute_result"
    }
   ],
   "source": [
    "df[(df['Longitude'] < -180) | (df['Longitude'] > 180)] "
   ]
  },
  {
   "cell_type": "code",
   "execution_count": 17,
   "id": "ca3e738f",
   "metadata": {},
   "outputs": [],
   "source": [
    "df['Location'] = df['Location'].str.replace(',',' ')\n",
    "new = df['Location'].str.split(\" \", n = 1, expand = True)\n",
    "\n",
    "df['Location_x'] = new[0]\n",
    "df['Location_y'] = new[1]\n",
    "df['Location_x'] = df['Location_x'].astype(float)\n",
    "df['Location_y'] = df['Location_y'].astype(float)\n",
    "\n",
    "df.drop('Location', axis = 1, inplace = True)"
   ]
  },
  {
   "cell_type": "code",
   "execution_count": 18,
   "id": "28f30b17",
   "metadata": {},
   "outputs": [
    {
     "data": {
      "text/plain": [
       "(51490, 41)"
      ]
     },
     "execution_count": 18,
     "metadata": {},
     "output_type": "execute_result"
    }
   ],
   "source": [
    "df.shape"
   ]
  },
  {
   "cell_type": "code",
   "execution_count": 19,
   "id": "69f98787",
   "metadata": {},
   "outputs": [],
   "source": [
    "drop_columns = ['Report Number']\n",
    "\n",
    "# drivers license state, local case number, report number removed"
   ]
  },
  {
   "cell_type": "code",
   "execution_count": 20,
   "id": "a5791529",
   "metadata": {},
   "outputs": [],
   "source": [
    "df.drop(df[drop_columns], axis = 1, inplace = True)"
   ]
  },
  {
   "cell_type": "code",
   "execution_count": 21,
   "id": "8f29a3e9",
   "metadata": {},
   "outputs": [
    {
     "data": {
      "text/plain": [
       "(51490, 40)"
      ]
     },
     "execution_count": 21,
     "metadata": {},
     "output_type": "execute_result"
    }
   ],
   "source": [
    "df.shape"
   ]
  },
  {
   "cell_type": "code",
   "execution_count": 22,
   "id": "109e2eec",
   "metadata": {
    "scrolled": true
   },
   "outputs": [
    {
     "data": {
      "text/html": [
       "<div>\n",
       "<style scoped>\n",
       "    .dataframe tbody tr th:only-of-type {\n",
       "        vertical-align: middle;\n",
       "    }\n",
       "\n",
       "    .dataframe tbody tr th {\n",
       "        vertical-align: top;\n",
       "    }\n",
       "\n",
       "    .dataframe thead th {\n",
       "        text-align: right;\n",
       "    }\n",
       "</style>\n",
       "<table border=\"1\" class=\"dataframe\">\n",
       "  <thead>\n",
       "    <tr style=\"text-align: right;\">\n",
       "      <th></th>\n",
       "      <th>Local Case Number</th>\n",
       "      <th>Agency Name</th>\n",
       "      <th>ACRS Report Type</th>\n",
       "      <th>Route Type</th>\n",
       "      <th>Road Name</th>\n",
       "      <th>Cross-Street Type</th>\n",
       "      <th>Cross-Street Name</th>\n",
       "      <th>Collision Type</th>\n",
       "      <th>Weather</th>\n",
       "      <th>Surface Condition</th>\n",
       "      <th>...</th>\n",
       "      <th>Longitude</th>\n",
       "      <th>Fault</th>\n",
       "      <th>Report Category</th>\n",
       "      <th>Crash_day</th>\n",
       "      <th>Crash_hour</th>\n",
       "      <th>Crash_month</th>\n",
       "      <th>Crash_year</th>\n",
       "      <th>Crash_day_of_week</th>\n",
       "      <th>Location_x</th>\n",
       "      <th>Location_y</th>\n",
       "    </tr>\n",
       "  </thead>\n",
       "  <tbody>\n",
       "    <tr>\n",
       "      <th>0</th>\n",
       "      <td>10196</td>\n",
       "      <td>Montgomery County Police</td>\n",
       "      <td>Injury Crash</td>\n",
       "      <td>Maryland (State)</td>\n",
       "      <td>OLD HUNDRED RD</td>\n",
       "      <td>County</td>\n",
       "      <td>THURSTON RD</td>\n",
       "      <td>SINGLE VEHICLE</td>\n",
       "      <td>CLEAR</td>\n",
       "      <td>WET</td>\n",
       "      <td>...</td>\n",
       "      <td>-77.344203</td>\n",
       "      <td>1</td>\n",
       "      <td>M</td>\n",
       "      <td>5</td>\n",
       "      <td>16</td>\n",
       "      <td>6</td>\n",
       "      <td>2017</td>\n",
       "      <td>0</td>\n",
       "      <td>3.6383</td>\n",
       "      <td>7.4233</td>\n",
       "    </tr>\n",
       "    <tr>\n",
       "      <th>1</th>\n",
       "      <td>20080</td>\n",
       "      <td>Montgomery County Police</td>\n",
       "      <td>Injury Crash</td>\n",
       "      <td>County</td>\n",
       "      <td>JANET RD</td>\n",
       "      <td>County</td>\n",
       "      <td>FLACK ST</td>\n",
       "      <td>STRAIGHT MOVEMENT ANGLE</td>\n",
       "      <td>CLEAR</td>\n",
       "      <td>DRY</td>\n",
       "      <td>...</td>\n",
       "      <td>-77.063227</td>\n",
       "      <td>1</td>\n",
       "      <td>M</td>\n",
       "      <td>22</td>\n",
       "      <td>10</td>\n",
       "      <td>2</td>\n",
       "      <td>2020</td>\n",
       "      <td>5</td>\n",
       "      <td>3.0862</td>\n",
       "      <td>7.3240</td>\n",
       "    </tr>\n",
       "    <tr>\n",
       "      <th>2</th>\n",
       "      <td>10103</td>\n",
       "      <td>Montgomery County Police</td>\n",
       "      <td>Property Damage Crash</td>\n",
       "      <td>Maryland (State)</td>\n",
       "      <td>COLESVILLE RD</td>\n",
       "      <td>Maryland (State)</td>\n",
       "      <td>STRUC #15082</td>\n",
       "      <td>SAME DIRECTION RIGHT TURN</td>\n",
       "      <td>CLEAR</td>\n",
       "      <td>DRY</td>\n",
       "      <td>...</td>\n",
       "      <td>-77.032718</td>\n",
       "      <td>0</td>\n",
       "      <td>M</td>\n",
       "      <td>11</td>\n",
       "      <td>8</td>\n",
       "      <td>6</td>\n",
       "      <td>2017</td>\n",
       "      <td>6</td>\n",
       "      <td>3.9583</td>\n",
       "      <td>7.3783</td>\n",
       "    </tr>\n",
       "    <tr>\n",
       "      <th>3</th>\n",
       "      <td>10208</td>\n",
       "      <td>Montgomery County Police</td>\n",
       "      <td>Injury Crash</td>\n",
       "      <td>County</td>\n",
       "      <td>PARKLAND DR</td>\n",
       "      <td>County</td>\n",
       "      <td>FRANKFORT DR</td>\n",
       "      <td>OTHER</td>\n",
       "      <td>CLOUDY</td>\n",
       "      <td>DRY</td>\n",
       "      <td>...</td>\n",
       "      <td>-77.086933</td>\n",
       "      <td>1</td>\n",
       "      <td>M</td>\n",
       "      <td>10</td>\n",
       "      <td>7</td>\n",
       "      <td>5</td>\n",
       "      <td>2019</td>\n",
       "      <td>4</td>\n",
       "      <td>3.8400</td>\n",
       "      <td>-70633.0000</td>\n",
       "    </tr>\n",
       "    <tr>\n",
       "      <th>4</th>\n",
       "      <td>1091</td>\n",
       "      <td>Montgomery County Police</td>\n",
       "      <td>Injury Crash</td>\n",
       "      <td>Maryland (State)</td>\n",
       "      <td>OLD GEORGETOWN RD</td>\n",
       "      <td>County</td>\n",
       "      <td>MCKINLEY ST</td>\n",
       "      <td>SAME DIR REAR END</td>\n",
       "      <td>CLEAR</td>\n",
       "      <td>DRY</td>\n",
       "      <td>...</td>\n",
       "      <td>-77.109168</td>\n",
       "      <td>0</td>\n",
       "      <td>M</td>\n",
       "      <td>2</td>\n",
       "      <td>17</td>\n",
       "      <td>8</td>\n",
       "      <td>2016</td>\n",
       "      <td>1</td>\n",
       "      <td>3.9917</td>\n",
       "      <td>7.0183</td>\n",
       "    </tr>\n",
       "  </tbody>\n",
       "</table>\n",
       "<p>5 rows × 40 columns</p>\n",
       "</div>"
      ],
      "text/plain": [
       "  Local Case Number               Agency Name       ACRS Report Type  \\\n",
       "0             10196  Montgomery County Police           Injury Crash   \n",
       "1             20080  Montgomery County Police           Injury Crash   \n",
       "2             10103  Montgomery County Police  Property Damage Crash   \n",
       "3             10208  Montgomery County Police           Injury Crash   \n",
       "4              1091  Montgomery County Police           Injury Crash   \n",
       "\n",
       "         Route Type          Road Name Cross-Street Type Cross-Street Name  \\\n",
       "0  Maryland (State)     OLD HUNDRED RD            County       THURSTON RD   \n",
       "1            County           JANET RD            County          FLACK ST   \n",
       "2  Maryland (State)      COLESVILLE RD  Maryland (State)      STRUC #15082   \n",
       "3            County        PARKLAND DR            County      FRANKFORT DR   \n",
       "4  Maryland (State)  OLD GEORGETOWN RD            County       MCKINLEY ST   \n",
       "\n",
       "              Collision Type Weather Surface Condition  ...  Longitude Fault  \\\n",
       "0             SINGLE VEHICLE   CLEAR               WET  ... -77.344203     1   \n",
       "1    STRAIGHT MOVEMENT ANGLE   CLEAR               DRY  ... -77.063227     1   \n",
       "2  SAME DIRECTION RIGHT TURN   CLEAR               DRY  ... -77.032718     0   \n",
       "3                      OTHER  CLOUDY               DRY  ... -77.086933     1   \n",
       "4          SAME DIR REAR END   CLEAR               DRY  ... -77.109168     0   \n",
       "\n",
       "  Report Category Crash_day Crash_hour Crash_month Crash_year  \\\n",
       "0               M         5         16           6       2017   \n",
       "1               M        22         10           2       2020   \n",
       "2               M        11          8           6       2017   \n",
       "3               M        10          7           5       2019   \n",
       "4               M         2         17           8       2016   \n",
       "\n",
       "  Crash_day_of_week Location_x  Location_y  \n",
       "0                 0     3.6383      7.4233  \n",
       "1                 5     3.0862      7.3240  \n",
       "2                 6     3.9583      7.3783  \n",
       "3                 4     3.8400 -70633.0000  \n",
       "4                 1     3.9917      7.0183  \n",
       "\n",
       "[5 rows x 40 columns]"
      ]
     },
     "execution_count": 22,
     "metadata": {},
     "output_type": "execute_result"
    }
   ],
   "source": [
    "df.head()"
   ]
  },
  {
   "cell_type": "code",
   "execution_count": 23,
   "id": "2016be6a",
   "metadata": {
    "scrolled": true
   },
   "outputs": [
    {
     "data": {
      "text/plain": [
       "Local Case Number                  6453\n",
       "Agency Name                           0\n",
       "ACRS Report Type                      0\n",
       "Route Type                         4968\n",
       "Road Name                          4502\n",
       "Cross-Street Type                  5019\n",
       "Cross-Street Name                  4522\n",
       "Collision Type                      299\n",
       "Weather                            4029\n",
       "Surface Condition                  5879\n",
       "Light                               704\n",
       "Traffic Control                    7774\n",
       "Driver Substance Abuse             9095\n",
       "Injury Severity                       0\n",
       "Drivers License State              2528\n",
       "Vehicle Damage Extent               397\n",
       "Vehicle First Impact Location       222\n",
       "Vehicle Second Impact Location      234\n",
       "Vehicle Body Type                   785\n",
       "Vehicle Movement                    198\n",
       "Vehicle Continuing Dir             1129\n",
       "Vehicle Going Dir                  1113\n",
       "Speed Limit                           0\n",
       "Driverless Vehicle                    0\n",
       "Parked Vehicle                        0\n",
       "Vehicle Year                          0\n",
       "Vehicle Make                          8\n",
       "Vehicle Model                        19\n",
       "Equipment Problems                10666\n",
       "Latitude                              0\n",
       "Longitude                             0\n",
       "Fault                                 0\n",
       "Report Category                       0\n",
       "Crash_day                             0\n",
       "Crash_hour                            0\n",
       "Crash_month                           0\n",
       "Crash_year                            0\n",
       "Crash_day_of_week                     0\n",
       "Location_x                            0\n",
       "Location_y                            0\n",
       "dtype: int64"
      ]
     },
     "execution_count": 23,
     "metadata": {},
     "output_type": "execute_result"
    }
   ],
   "source": [
    "df.isnull().sum()"
   ]
  },
  {
   "cell_type": "code",
   "execution_count": 24,
   "id": "16b1e3ec",
   "metadata": {},
   "outputs": [],
   "source": [
    "# now converting the nan values to unknowns"
   ]
  },
  {
   "cell_type": "code",
   "execution_count": 25,
   "id": "4293a364",
   "metadata": {},
   "outputs": [],
   "source": [
    "df['Agency Name'] = df['Agency Name'].replace('UNKNOWN','Unknown')\n",
    "df['Agency Name'] = df['Agency Name'].fillna('Unknown')\n",
    "\n",
    "df['ACRS Report Type'] = df['ACRS Report Type'].replace('UNKNOWN','Unknown')\n",
    "df['ACRS Report Type'] = df['ACRS Report Type'].fillna('Unknown')\n",
    "\n",
    "df['Route Type'] = df['Route Type'].replace('UNKNOWN','Unknown')\n",
    "df['Route Type'] = df['Route Type'].fillna('Unknown')\n",
    "\n",
    "df['Cross-Street Type'] = df['Cross-Street Type'].replace('UNKNOWN','Unknown')\n",
    "df['Cross-Street Type'] = df['Cross-Street Type'].fillna('Unknown')\n",
    "\n",
    "df['Weather'] = df['Weather'].replace('UNKNOWN','Unknown')\n",
    "df['Weather'] = df['Weather'].fillna('Unknown')\n",
    "\n",
    "df['Surface Condition'] = df['Surface Condition'].replace('UNKNOWN','Unknown')\n",
    "df['Surface Condition'] = df['Surface Condition'].fillna('Unknown')\n",
    "\n",
    "df['Light'] = df['Light'].replace('UNKNOWN','Unknown')\n",
    "df['Light'] = df['Light'].fillna('Unknown')\n",
    "\n",
    "df['Traffic Control'] = df['Traffic Control'].replace('UNKNOWN','Unknown')\n",
    "df['Traffic Control'] = df['Traffic Control'].fillna('Unknown')\n",
    "\n",
    "df['Driver Substance Abuse'] = df['Driver Substance Abuse'].replace('UNKNOWN','Unknown')\n",
    "df['Driver Substance Abuse'] = df['Driver Substance Abuse'].fillna('Unknown')\n",
    "\n",
    "df['Injury Severity'] = df['Injury Severity'].replace('UNKNOWN','Unknown')\n",
    "df['Injury Severity'] = df['Injury Severity'].fillna('Unknown')\n",
    "\n",
    "df['Vehicle Damage Extent'] = df['Vehicle Damage Extent'].replace('UNKNOWN','Unknown')\n",
    "df['Vehicle Damage Extent'] = df['Vehicle Damage Extent'].fillna('Unknown')\n",
    "\n",
    "df['Vehicle Second Impact Location'] = df['Vehicle Second Impact Location'].replace('UNKNOWN','Unknown')\n",
    "df['Vehicle Second Impact Location'] = df['Vehicle Second Impact Location'].fillna('Unknown')\n",
    "\n",
    "df['Vehicle Body Type'] = df['Vehicle Body Type'].replace('UNKNOWN','Unknown')\n",
    "df['Vehicle Body Type'] = df['Vehicle Body Type'].fillna('Unknown')\n",
    "\n",
    "df['Vehicle Movement'] = df['Vehicle Movement'].replace('UNKNOWN','Unknown')\n",
    "df['Vehicle Movement'] = df['Vehicle Movement'].fillna('Unknown')\n",
    "\n",
    "df['Vehicle Continuing Dir'] = df['Vehicle Continuing Dir'].replace('UNKNOWN','Unknown')\n",
    "df['Vehicle Continuing Dir'] = df['Vehicle Continuing Dir'].fillna('Unknown')\n",
    "\n",
    "df['Vehicle Going Dir'] = df['Vehicle Going Dir'].replace('UNKNOWN','Unknown')\n",
    "df['Vehicle Going Dir'] = df['Vehicle Going Dir'].fillna('Unknown')\n",
    "\n",
    "df['Equipment Problems'] = df['Equipment Problems'].replace('UNKNOWN','Unknown')\n",
    "df['Equipment Problems'] = df['Equipment Problems'].fillna('Unknown')\n",
    "\n",
    "df['Vehicle First Impact Location'] = df['Vehicle First Impact Location'].replace('UNKNOWN','Unknown')\n",
    "df['Vehicle First Impact Location'] = df['Vehicle First Impact Location'].fillna('Unknown')\n",
    "\n",
    "df['Collision Type'] = df['Collision Type'].replace('UNKNOWN','Unknown')\n",
    "df['Collision Type'] = df['Collision Type'].fillna('Unknown')"
   ]
  },
  {
   "cell_type": "code",
   "execution_count": 26,
   "id": "7d8d2a05",
   "metadata": {
    "scrolled": true
   },
   "outputs": [
    {
     "data": {
      "text/plain": [
       "Local Case Number                 6453\n",
       "Agency Name                          0\n",
       "ACRS Report Type                     0\n",
       "Route Type                           0\n",
       "Road Name                         4502\n",
       "Cross-Street Type                    0\n",
       "Cross-Street Name                 4522\n",
       "Collision Type                       0\n",
       "Weather                              0\n",
       "Surface Condition                    0\n",
       "Light                                0\n",
       "Traffic Control                      0\n",
       "Driver Substance Abuse               0\n",
       "Injury Severity                      0\n",
       "Drivers License State             2528\n",
       "Vehicle Damage Extent                0\n",
       "Vehicle First Impact Location        0\n",
       "Vehicle Second Impact Location       0\n",
       "Vehicle Body Type                    0\n",
       "Vehicle Movement                     0\n",
       "Vehicle Continuing Dir               0\n",
       "Vehicle Going Dir                    0\n",
       "Speed Limit                          0\n",
       "Driverless Vehicle                   0\n",
       "Parked Vehicle                       0\n",
       "Vehicle Year                         0\n",
       "Vehicle Make                         8\n",
       "Vehicle Model                       19\n",
       "Equipment Problems                   0\n",
       "Latitude                             0\n",
       "Longitude                            0\n",
       "Fault                                0\n",
       "Report Category                      0\n",
       "Crash_day                            0\n",
       "Crash_hour                           0\n",
       "Crash_month                          0\n",
       "Crash_year                           0\n",
       "Crash_day_of_week                    0\n",
       "Location_x                           0\n",
       "Location_y                           0\n",
       "dtype: int64"
      ]
     },
     "execution_count": 26,
     "metadata": {},
     "output_type": "execute_result"
    }
   ],
   "source": [
    "df.isnull().sum()"
   ]
  },
  {
   "cell_type": "code",
   "execution_count": 27,
   "id": "f865ea5b",
   "metadata": {},
   "outputs": [],
   "source": [
    "df.fillna(-1,inplace=True)"
   ]
  },
  {
   "cell_type": "code",
   "execution_count": 28,
   "id": "ad19cb56",
   "metadata": {},
   "outputs": [],
   "source": [
    "df['Local Case Number'] = df['Local Case Number'].str.replace('P','')\n",
    "df['Local Case Number']= pd.to_numeric(df['Local Case Number'])"
   ]
  },
  {
   "cell_type": "code",
   "execution_count": 29,
   "id": "bf63262f",
   "metadata": {},
   "outputs": [],
   "source": [
    "df['Local Case Number'].fillna(-1, inplace = True)"
   ]
  },
  {
   "cell_type": "code",
   "execution_count": 30,
   "id": "e0e3aacb",
   "metadata": {},
   "outputs": [
    {
     "data": {
      "text/plain": [
       "(51490, 40)"
      ]
     },
     "execution_count": 30,
     "metadata": {},
     "output_type": "execute_result"
    }
   ],
   "source": [
    "df.shape"
   ]
  },
  {
   "cell_type": "code",
   "execution_count": 31,
   "id": "74531261",
   "metadata": {},
   "outputs": [],
   "source": [
    "# before running this cell make sure there aren't any nan values \n",
    "\n",
    "enc_RN = (df.groupby('Road Name').size()) / len(df)\n",
    "df['enc_RN'] = df['Road Name'].apply(lambda x : enc_RN[x])\n",
    "\n",
    "enc_CSN = (df.groupby('Cross-Street Name').size()) / len(df)\n",
    "df['enc_CSN'] = df['Cross-Street Name'].apply(lambda x : enc_CSN[x])\n",
    "\n",
    "enc_VMK = (df.groupby('Vehicle Make').size()) / len(df)\n",
    "df['enc_VM'] = df['Vehicle Make'].apply(lambda x : enc_VMK[x])\n",
    "\n",
    "enc_VMM = (df.groupby('Vehicle Model').size()) / len(df)\n",
    "df['enc_VMM'] = df['Vehicle Model'].apply(lambda x : enc_VMM[x])\n",
    "\n",
    "df.drop(['Road Name','Cross-Street Name','Vehicle Make','Vehicle Model'], axis = 1, inplace = True)"
   ]
  },
  {
   "cell_type": "code",
   "execution_count": 32,
   "id": "4c6e5553",
   "metadata": {},
   "outputs": [
    {
     "data": {
      "text/html": [
       "<div>\n",
       "<style scoped>\n",
       "    .dataframe tbody tr th:only-of-type {\n",
       "        vertical-align: middle;\n",
       "    }\n",
       "\n",
       "    .dataframe tbody tr th {\n",
       "        vertical-align: top;\n",
       "    }\n",
       "\n",
       "    .dataframe thead th {\n",
       "        text-align: right;\n",
       "    }\n",
       "</style>\n",
       "<table border=\"1\" class=\"dataframe\">\n",
       "  <thead>\n",
       "    <tr style=\"text-align: right;\">\n",
       "      <th></th>\n",
       "      <th>Local Case Number</th>\n",
       "      <th>Agency Name</th>\n",
       "      <th>ACRS Report Type</th>\n",
       "      <th>Route Type</th>\n",
       "      <th>Cross-Street Type</th>\n",
       "      <th>Collision Type</th>\n",
       "      <th>Weather</th>\n",
       "      <th>Surface Condition</th>\n",
       "      <th>Light</th>\n",
       "      <th>Traffic Control</th>\n",
       "      <th>...</th>\n",
       "      <th>Crash_hour</th>\n",
       "      <th>Crash_month</th>\n",
       "      <th>Crash_year</th>\n",
       "      <th>Crash_day_of_week</th>\n",
       "      <th>Location_x</th>\n",
       "      <th>Location_y</th>\n",
       "      <th>enc_RN</th>\n",
       "      <th>enc_CSN</th>\n",
       "      <th>enc_VM</th>\n",
       "      <th>enc_VMM</th>\n",
       "    </tr>\n",
       "  </thead>\n",
       "  <tbody>\n",
       "    <tr>\n",
       "      <th>0</th>\n",
       "      <td>10196.0</td>\n",
       "      <td>Montgomery County Police</td>\n",
       "      <td>Injury Crash</td>\n",
       "      <td>Maryland (State)</td>\n",
       "      <td>County</td>\n",
       "      <td>SINGLE VEHICLE</td>\n",
       "      <td>CLEAR</td>\n",
       "      <td>WET</td>\n",
       "      <td>DAYLIGHT</td>\n",
       "      <td>NO CONTROLS</td>\n",
       "      <td>...</td>\n",
       "      <td>16</td>\n",
       "      <td>6</td>\n",
       "      <td>2017</td>\n",
       "      <td>0</td>\n",
       "      <td>3.6383</td>\n",
       "      <td>7.4233</td>\n",
       "      <td>0.001398</td>\n",
       "      <td>0.000175</td>\n",
       "      <td>0.010818</td>\n",
       "      <td>0.010080</td>\n",
       "    </tr>\n",
       "    <tr>\n",
       "      <th>1</th>\n",
       "      <td>20080.0</td>\n",
       "      <td>Montgomery County Police</td>\n",
       "      <td>Injury Crash</td>\n",
       "      <td>County</td>\n",
       "      <td>County</td>\n",
       "      <td>STRAIGHT MOVEMENT ANGLE</td>\n",
       "      <td>CLEAR</td>\n",
       "      <td>DRY</td>\n",
       "      <td>DAYLIGHT</td>\n",
       "      <td>STOP SIGN</td>\n",
       "      <td>...</td>\n",
       "      <td>10</td>\n",
       "      <td>2</td>\n",
       "      <td>2020</td>\n",
       "      <td>5</td>\n",
       "      <td>3.0862</td>\n",
       "      <td>7.3240</td>\n",
       "      <td>0.000155</td>\n",
       "      <td>0.000136</td>\n",
       "      <td>0.096038</td>\n",
       "      <td>0.000990</td>\n",
       "    </tr>\n",
       "    <tr>\n",
       "      <th>2</th>\n",
       "      <td>10103.0</td>\n",
       "      <td>Montgomery County Police</td>\n",
       "      <td>Property Damage Crash</td>\n",
       "      <td>Maryland (State)</td>\n",
       "      <td>Maryland (State)</td>\n",
       "      <td>SAME DIRECTION RIGHT TURN</td>\n",
       "      <td>CLEAR</td>\n",
       "      <td>DRY</td>\n",
       "      <td>Unknown</td>\n",
       "      <td>OTHER</td>\n",
       "      <td>...</td>\n",
       "      <td>8</td>\n",
       "      <td>6</td>\n",
       "      <td>2017</td>\n",
       "      <td>6</td>\n",
       "      <td>3.9583</td>\n",
       "      <td>7.3783</td>\n",
       "      <td>0.018625</td>\n",
       "      <td>0.000058</td>\n",
       "      <td>0.004525</td>\n",
       "      <td>0.001728</td>\n",
       "    </tr>\n",
       "  </tbody>\n",
       "</table>\n",
       "<p>3 rows × 40 columns</p>\n",
       "</div>"
      ],
      "text/plain": [
       "   Local Case Number               Agency Name       ACRS Report Type  \\\n",
       "0            10196.0  Montgomery County Police           Injury Crash   \n",
       "1            20080.0  Montgomery County Police           Injury Crash   \n",
       "2            10103.0  Montgomery County Police  Property Damage Crash   \n",
       "\n",
       "         Route Type Cross-Street Type             Collision Type Weather  \\\n",
       "0  Maryland (State)            County             SINGLE VEHICLE   CLEAR   \n",
       "1            County            County    STRAIGHT MOVEMENT ANGLE   CLEAR   \n",
       "2  Maryland (State)  Maryland (State)  SAME DIRECTION RIGHT TURN   CLEAR   \n",
       "\n",
       "  Surface Condition     Light Traffic Control  ... Crash_hour Crash_month  \\\n",
       "0               WET  DAYLIGHT     NO CONTROLS  ...         16           6   \n",
       "1               DRY  DAYLIGHT       STOP SIGN  ...         10           2   \n",
       "2               DRY   Unknown           OTHER  ...          8           6   \n",
       "\n",
       "  Crash_year Crash_day_of_week Location_x Location_y    enc_RN   enc_CSN  \\\n",
       "0       2017                 0     3.6383     7.4233  0.001398  0.000175   \n",
       "1       2020                 5     3.0862     7.3240  0.000155  0.000136   \n",
       "2       2017                 6     3.9583     7.3783  0.018625  0.000058   \n",
       "\n",
       "     enc_VM   enc_VMM  \n",
       "0  0.010818  0.010080  \n",
       "1  0.096038  0.000990  \n",
       "2  0.004525  0.001728  \n",
       "\n",
       "[3 rows x 40 columns]"
      ]
     },
     "execution_count": 32,
     "metadata": {},
     "output_type": "execute_result"
    }
   ],
   "source": [
    "df.head(3)"
   ]
  },
  {
   "cell_type": "markdown",
   "id": "14e169cc",
   "metadata": {},
   "source": [
    "#### Changing the categorical features to numerical"
   ]
  },
  {
   "cell_type": "code",
   "execution_count": 33,
   "id": "ccf65457",
   "metadata": {},
   "outputs": [],
   "source": [
    "df = pd.get_dummies(df,drop_first = True)"
   ]
  },
  {
   "cell_type": "code",
   "execution_count": 34,
   "id": "e3a86115",
   "metadata": {},
   "outputs": [
    {
     "data": {
      "text/plain": [
       "(51490, 286)"
      ]
     },
     "execution_count": 34,
     "metadata": {},
     "output_type": "execute_result"
    }
   ],
   "source": [
    "df.shape"
   ]
  },
  {
   "cell_type": "code",
   "execution_count": 35,
   "id": "a0f4a8e6",
   "metadata": {},
   "outputs": [],
   "source": [
    "X = df.drop('Fault',axis = 1)\n",
    "y = df['Fault']\n",
    "X_train, X_test, y_train, y_test = train_test_split(X, y, test_size=0.30, random_state=101)"
   ]
  },
  {
   "cell_type": "markdown",
   "id": "f44e1113",
   "metadata": {},
   "source": [
    "### Pre-processing and EDA of the testing data"
   ]
  },
  {
   "cell_type": "code",
   "execution_count": 36,
   "id": "04eaec34",
   "metadata": {},
   "outputs": [
    {
     "data": {
      "text/plain": [
       "(77235, 42)"
      ]
     },
     "execution_count": 36,
     "metadata": {},
     "output_type": "execute_result"
    }
   ],
   "source": [
    "df_test = pd.read_csv(\"test_accident.csv\",parse_dates = ['Crash Date/Time'])\n",
    "df_test.shape"
   ]
  },
  {
   "cell_type": "code",
   "execution_count": 37,
   "id": "8527f641",
   "metadata": {},
   "outputs": [
    {
     "data": {
      "text/plain": [
       "array(['M', 'D', 'E', 'H'], dtype=object)"
      ]
     },
     "execution_count": 37,
     "metadata": {},
     "output_type": "execute_result"
    }
   ],
   "source": [
    "def extract(data):\n",
    "    return data[:1]\n",
    "\n",
    "df_test['Report Category'] = df_test['Report Number'].apply(extract)\n",
    "\n",
    "df_test['Report Category'].unique()"
   ]
  },
  {
   "cell_type": "code",
   "execution_count": 38,
   "id": "b7689a01",
   "metadata": {
    "scrolled": true
   },
   "outputs": [
    {
     "data": {
      "text/plain": [
       "Id                                    0\n",
       "Report Number                         0\n",
       "Local Case Number                 10073\n",
       "Agency Name                           0\n",
       "ACRS Report Type                      0\n",
       "Crash Date/Time                       0\n",
       "Route Type                         7467\n",
       "Road Name                          7069\n",
       "Cross-Street Type                  7480\n",
       "Cross-Street Name                  7071\n",
       "Off-Road Description              70166\n",
       "Municipality                      68737\n",
       "Related Non-Motorist              74987\n",
       "Collision Type                      245\n",
       "Weather                            5996\n",
       "Surface Condition                  9053\n",
       "Light                               620\n",
       "Traffic Control                   12050\n",
       "Driver Substance Abuse            14083\n",
       "Non-Motorist Substance Abuse      75458\n",
       "Person ID                             0\n",
       "Injury Severity                       0\n",
       "Circumstance                      62690\n",
       "Drivers License State              3920\n",
       "Vehicle ID                            0\n",
       "Vehicle Damage Extent               136\n",
       "Vehicle First Impact Location        81\n",
       "Vehicle Second Impact Location      139\n",
       "Vehicle Body Type                  1107\n",
       "Vehicle Movement                    153\n",
       "Vehicle Continuing Dir             1201\n",
       "Vehicle Going Dir                  1201\n",
       "Speed Limit                           0\n",
       "Driverless Vehicle                    0\n",
       "Parked Vehicle                        0\n",
       "Vehicle Year                          0\n",
       "Vehicle Make                         13\n",
       "Vehicle Model                        34\n",
       "Equipment Problems                16424\n",
       "Latitude                              0\n",
       "Longitude                             0\n",
       "Location                              0\n",
       "Report Category                       0\n",
       "dtype: int64"
      ]
     },
     "execution_count": 38,
     "metadata": {},
     "output_type": "execute_result"
    }
   ],
   "source": [
    "df_test.isnull().sum()"
   ]
  },
  {
   "cell_type": "code",
   "execution_count": 39,
   "id": "931ae413",
   "metadata": {},
   "outputs": [],
   "source": [
    "df_test.drop(['Off-Road Description','Municipality','Related Non-Motorist','Non-Motorist Substance Abuse',\n",
    "         'Circumstance','Person ID','Vehicle ID'], axis = 1, inplace = True)"
   ]
  },
  {
   "cell_type": "code",
   "execution_count": 40,
   "id": "68e6d24a",
   "metadata": {},
   "outputs": [
    {
     "data": {
      "text/plain": [
       "(77235, 36)"
      ]
     },
     "execution_count": 40,
     "metadata": {},
     "output_type": "execute_result"
    }
   ],
   "source": [
    "df_test.shape"
   ]
  },
  {
   "cell_type": "code",
   "execution_count": 41,
   "id": "dd30fd00",
   "metadata": {},
   "outputs": [],
   "source": [
    "df_test['Crash_day'] = df_test['Crash Date/Time'].dt.day\n",
    "df_test['Crash_hour'] = df_test['Crash Date/Time'].dt.hour\n",
    "df_test['Crash_month'] = df_test['Crash Date/Time'].dt.month\n",
    "df_test['Crash_year'] = df_test['Crash Date/Time'].dt.year\n",
    "df_test['Crash_day_of_week'] = df_test['Crash Date/Time'].dt.dayofweek\n",
    "df_test.drop('Crash Date/Time',axis='columns', inplace=True)"
   ]
  },
  {
   "cell_type": "code",
   "execution_count": 42,
   "id": "8d451959",
   "metadata": {},
   "outputs": [],
   "source": [
    "df_test['Location'] = df_test['Location'].str.replace(',',' ')\n",
    "new = df_test['Location'].str.split(\" \", n = 1, expand = True)\n",
    "\n",
    "df_test['Location_x'] = new[0]\n",
    "df_test['Location_y'] = new[1]\n",
    "df_test['Location_x'] = df_test['Location_x'].astype(float)\n",
    "df_test['Location_y'] = df_test['Location_y'].astype(float)\n",
    "\n",
    "df_test.drop('Location', axis = 1, inplace = True)"
   ]
  },
  {
   "cell_type": "code",
   "execution_count": 43,
   "id": "292ec4e0",
   "metadata": {},
   "outputs": [
    {
     "data": {
      "text/plain": [
       "(77235, 41)"
      ]
     },
     "execution_count": 43,
     "metadata": {},
     "output_type": "execute_result"
    }
   ],
   "source": [
    "df_test.shape"
   ]
  },
  {
   "cell_type": "code",
   "execution_count": 44,
   "id": "961035c9",
   "metadata": {},
   "outputs": [],
   "source": [
    "drop_columns = ['Report Number']\n",
    "df_test.drop(df_test[drop_columns], axis = 1, inplace = True)"
   ]
  },
  {
   "cell_type": "code",
   "execution_count": 45,
   "id": "7f5dc4d9",
   "metadata": {},
   "outputs": [],
   "source": [
    "df_test['Local Case Number'] = df_test['Local Case Number'].str.replace('P','')\n",
    "df_test['Local Case Number']= pd.to_numeric(df_test['Local Case Number'])"
   ]
  },
  {
   "cell_type": "code",
   "execution_count": 46,
   "id": "4948b289",
   "metadata": {},
   "outputs": [
    {
     "data": {
      "text/plain": [
       "(77235, 40)"
      ]
     },
     "execution_count": 46,
     "metadata": {},
     "output_type": "execute_result"
    }
   ],
   "source": [
    "df_test.shape"
   ]
  },
  {
   "cell_type": "code",
   "execution_count": 47,
   "id": "17d0c7ae",
   "metadata": {},
   "outputs": [],
   "source": [
    "df_test['Agency Name'] = df_test['Agency Name'].replace('UNKNOWN','Unknown')\n",
    "df_test['Agency Name'] = df_test['Agency Name'].fillna('Unknown')\n",
    "\n",
    "df_test['ACRS Report Type'] = df_test['ACRS Report Type'].replace('UNKNOWN','Unknown')\n",
    "df_test['ACRS Report Type'] = df_test['ACRS Report Type'].fillna('Unknown')\n",
    "\n",
    "df_test['Route Type'] = df_test['Route Type'].replace('UNKNOWN','Unknown')\n",
    "df_test['Route Type'] = df_test['Route Type'].fillna('Unknown')\n",
    "\n",
    "df_test['Cross-Street Type'] = df_test['Cross-Street Type'].replace('UNKNOWN','Unknown')\n",
    "df_test['Cross-Street Type'] = df_test['Cross-Street Type'].fillna('Unknown')\n",
    "\n",
    "df_test['Weather'] = df_test['Weather'].replace('UNKNOWN','Unknown')\n",
    "df_test['Weather'] = df_test['Weather'].fillna('Unknown')\n",
    "\n",
    "df_test['Surface Condition'] = df_test['Surface Condition'].replace('UNKNOWN','Unknown')\n",
    "df_test['Surface Condition'] = df_test['Surface Condition'].fillna('Unknown')\n",
    "\n",
    "df_test['Light'] = df_test['Light'].replace('UNKNOWN','Unknown')\n",
    "df_test['Light'] = df_test['Light'].fillna('Unknown')\n",
    "\n",
    "df_test['Traffic Control'] = df_test['Traffic Control'].replace('UNKNOWN','Unknown')\n",
    "df_test['Traffic Control'] = df_test['Traffic Control'].fillna('Unknown')\n",
    "\n",
    "df_test['Driver Substance Abuse'] = df_test['Driver Substance Abuse'].replace('UNKNOWN','Unknown')\n",
    "df_test['Driver Substance Abuse'] = df_test['Driver Substance Abuse'].fillna('Unknown')\n",
    "\n",
    "df_test['Injury Severity'] = df_test['Injury Severity'].replace('UNKNOWN','Unknown')\n",
    "df_test['Injury Severity'] = df_test['Injury Severity'].fillna('Unknown')\n",
    "\n",
    "df_test['Vehicle Damage Extent'] = df_test['Vehicle Damage Extent'].replace('UNKNOWN','Unknown')\n",
    "df_test['Vehicle Damage Extent'] = df_test['Vehicle Damage Extent'].fillna('Unknown')\n",
    "\n",
    "df_test['Vehicle Second Impact Location'] = df_test['Vehicle Second Impact Location'].replace('UNKNOWN','Unknown')\n",
    "df_test['Vehicle Second Impact Location'] = df_test['Vehicle Second Impact Location'].fillna('Unknown')\n",
    "\n",
    "df_test['Vehicle Body Type'] = df_test['Vehicle Body Type'].replace('UNKNOWN','Unknown')\n",
    "df_test['Vehicle Body Type'] = df_test['Vehicle Body Type'].fillna('Unknown')\n",
    "\n",
    "df_test['Vehicle Movement'] = df_test['Vehicle Movement'].replace('UNKNOWN','Unknown')\n",
    "df_test['Vehicle Movement'] = df_test['Vehicle Movement'].fillna('Unknown')\n",
    "\n",
    "df_test['Vehicle Continuing Dir'] = df_test['Vehicle Continuing Dir'].replace('UNKNOWN','Unknown')\n",
    "df_test['Vehicle Continuing Dir'] = df_test['Vehicle Continuing Dir'].fillna('Unknown')\n",
    "\n",
    "df_test['Vehicle Going Dir'] = df_test['Vehicle Going Dir'].replace('UNKNOWN','Unknown')\n",
    "df_test['Vehicle Going Dir'] = df_test['Vehicle Going Dir'].fillna('Unknown')\n",
    "\n",
    "df_test['Equipment Problems'] = df_test['Equipment Problems'].replace('UNKNOWN','Unknown')\n",
    "df_test['Equipment Problems'] = df_test['Equipment Problems'].fillna('Unknown')\n",
    "\n",
    "df_test['Vehicle First Impact Location'] = df_test['Vehicle First Impact Location'].replace('UNKNOWN','Unknown')\n",
    "df_test['Vehicle First Impact Location'] = df_test['Vehicle First Impact Location'].fillna('Unknown')\n",
    "\n",
    "df_test['Collision Type'] = df_test['Collision Type'].replace('UNKNOWN','Unknown')\n",
    "df_test['Collision Type'] = df_test['Collision Type'].fillna('Unknown')"
   ]
  },
  {
   "cell_type": "code",
   "execution_count": 48,
   "id": "ee33d2d2",
   "metadata": {},
   "outputs": [],
   "source": [
    "df_test.fillna(-1,inplace=True)"
   ]
  },
  {
   "cell_type": "code",
   "execution_count": 49,
   "id": "4f178f10",
   "metadata": {
    "scrolled": true
   },
   "outputs": [
    {
     "data": {
      "text/plain": [
       "Id                                0\n",
       "Local Case Number                 0\n",
       "Agency Name                       0\n",
       "ACRS Report Type                  0\n",
       "Route Type                        0\n",
       "Road Name                         0\n",
       "Cross-Street Type                 0\n",
       "Cross-Street Name                 0\n",
       "Collision Type                    0\n",
       "Weather                           0\n",
       "Surface Condition                 0\n",
       "Light                             0\n",
       "Traffic Control                   0\n",
       "Driver Substance Abuse            0\n",
       "Injury Severity                   0\n",
       "Drivers License State             0\n",
       "Vehicle Damage Extent             0\n",
       "Vehicle First Impact Location     0\n",
       "Vehicle Second Impact Location    0\n",
       "Vehicle Body Type                 0\n",
       "Vehicle Movement                  0\n",
       "Vehicle Continuing Dir            0\n",
       "Vehicle Going Dir                 0\n",
       "Speed Limit                       0\n",
       "Driverless Vehicle                0\n",
       "Parked Vehicle                    0\n",
       "Vehicle Year                      0\n",
       "Vehicle Make                      0\n",
       "Vehicle Model                     0\n",
       "Equipment Problems                0\n",
       "Latitude                          0\n",
       "Longitude                         0\n",
       "Report Category                   0\n",
       "Crash_day                         0\n",
       "Crash_hour                        0\n",
       "Crash_month                       0\n",
       "Crash_year                        0\n",
       "Crash_day_of_week                 0\n",
       "Location_x                        0\n",
       "Location_y                        0\n",
       "dtype: int64"
      ]
     },
     "execution_count": 49,
     "metadata": {},
     "output_type": "execute_result"
    }
   ],
   "source": [
    "df_test.isnull().sum()"
   ]
  },
  {
   "cell_type": "code",
   "execution_count": 50,
   "id": "4b5c870f",
   "metadata": {},
   "outputs": [],
   "source": [
    "# before running this cell make sure there aren't any nan values \n",
    "\n",
    "enc_RN = (df_test.groupby('Road Name').size()) / len(df_test)\n",
    "df_test['enc_RN'] = df_test['Road Name'].apply(lambda x : enc_RN[x])\n",
    "\n",
    "enc_CSN = (df_test.groupby('Cross-Street Name').size()) / len(df_test)\n",
    "df_test['enc_CSN'] = df_test['Cross-Street Name'].apply(lambda x : enc_CSN[x])\n",
    "\n",
    "enc_VMK = (df_test.groupby('Vehicle Make').size()) / len(df_test)\n",
    "df_test['enc_VM'] = df_test['Vehicle Make'].apply(lambda x : enc_VMK[x])\n",
    "\n",
    "enc_VMM = (df_test.groupby('Vehicle Model').size()) / len(df_test)\n",
    "df_test['enc_VMM'] = df_test['Vehicle Model'].apply(lambda x : enc_VMM[x])\n",
    "\n",
    "df_test.drop(['Road Name','Cross-Street Name','Vehicle Make','Vehicle Model'], axis = 1, inplace = True)"
   ]
  },
  {
   "cell_type": "code",
   "execution_count": 51,
   "id": "f36009e8",
   "metadata": {},
   "outputs": [
    {
     "data": {
      "text/plain": [
       "(77235, 40)"
      ]
     },
     "execution_count": 51,
     "metadata": {},
     "output_type": "execute_result"
    }
   ],
   "source": [
    "df_test.shape"
   ]
  },
  {
   "cell_type": "markdown",
   "id": "e8cf89bd",
   "metadata": {},
   "source": [
    "#### Changing the categorical features to numerical"
   ]
  },
  {
   "cell_type": "code",
   "execution_count": 52,
   "id": "48fff6c3",
   "metadata": {},
   "outputs": [],
   "source": [
    "df_test = pd.get_dummies(df_test,drop_first = True)"
   ]
  },
  {
   "cell_type": "code",
   "execution_count": 53,
   "id": "318d9c52",
   "metadata": {},
   "outputs": [
    {
     "data": {
      "text/plain": [
       "(77235, 296)"
      ]
     },
     "execution_count": 53,
     "metadata": {},
     "output_type": "execute_result"
    }
   ],
   "source": [
    "df_test.shape"
   ]
  },
  {
   "cell_type": "code",
   "execution_count": 54,
   "id": "e7abe40d",
   "metadata": {},
   "outputs": [],
   "source": [
    "df_test.drop('Id', axis = 1, inplace = True)"
   ]
  },
  {
   "cell_type": "code",
   "execution_count": 55,
   "id": "467ebd7f",
   "metadata": {},
   "outputs": [
    {
     "data": {
      "text/plain": [
       "(77235, 295)"
      ]
     },
     "execution_count": 55,
     "metadata": {},
     "output_type": "execute_result"
    }
   ],
   "source": [
    "df_test.shape"
   ]
  },
  {
   "cell_type": "code",
   "execution_count": 56,
   "id": "31153d75",
   "metadata": {},
   "outputs": [],
   "source": [
    "df_test.drop('Equipment Problems_SIZE/TYPE IMPROPER',axis=1,inplace=True)\n",
    "df_test.drop('Equipment Problems_NOT STREPPED RIGHT',axis=1,inplace=True)"
   ]
  },
  {
   "cell_type": "markdown",
   "id": "4a3151b6",
   "metadata": {},
   "source": [
    "## Checking the accuracy on the Validation set(30% of training data)"
   ]
  },
  {
   "cell_type": "markdown",
   "id": "99363e0d",
   "metadata": {},
   "source": [
    "### Random Forest"
   ]
  },
  {
   "cell_type": "code",
   "execution_count": 57,
   "id": "7c8c9e74",
   "metadata": {},
   "outputs": [
    {
     "data": {
      "text/plain": [
       "0.849614811937593"
      ]
     },
     "execution_count": 57,
     "metadata": {},
     "output_type": "execute_result"
    }
   ],
   "source": [
    "model = RandomForestClassifier()\n",
    "\n",
    "model.fit(X_train, y_train)\n",
    "pred = model.predict(X_test)\n",
    "accuracy_score(y_test,pred)"
   ]
  },
  {
   "cell_type": "markdown",
   "id": "dd9521a2",
   "metadata": {},
   "source": [
    "#### Random Forest is giving a validation accuracy of 84.9%"
   ]
  },
  {
   "cell_type": "markdown",
   "id": "b8ad5552",
   "metadata": {},
   "source": [
    "### Gradient Boosting Classifier"
   ]
  },
  {
   "cell_type": "code",
   "execution_count": 58,
   "id": "6f9955ea",
   "metadata": {},
   "outputs": [
    {
     "data": {
      "text/plain": [
       "0.8472195248268272"
      ]
     },
     "execution_count": 58,
     "metadata": {},
     "output_type": "execute_result"
    }
   ],
   "source": [
    "model = GradientBoostingClassifier()\n",
    "\n",
    "model.fit(X_train, y_train)\n",
    "pred = model.predict(X_test)\n",
    "accuracy_score(y_test,pred)"
   ]
  },
  {
   "cell_type": "markdown",
   "id": "2a83b5aa",
   "metadata": {},
   "source": [
    "#### Gradient Boost Classifier is giving a validation accuracy of 84.72%"
   ]
  },
  {
   "cell_type": "markdown",
   "id": "134457ff",
   "metadata": {},
   "source": [
    "### XGBoost Classifier"
   ]
  },
  {
   "cell_type": "code",
   "execution_count": 59,
   "id": "f41f23da",
   "metadata": {},
   "outputs": [
    {
     "data": {
      "text/plain": [
       "0.8521395740273192"
      ]
     },
     "execution_count": 59,
     "metadata": {},
     "output_type": "execute_result"
    }
   ],
   "source": [
    "model = xgb.XGBClassifier(eval_metric = 'logloss')\n",
    "\n",
    "model.fit(X_train, y_train)\n",
    "pred = model.predict(X_test)\n",
    "accuracy_score(y_test,pred)"
   ]
  },
  {
   "cell_type": "markdown",
   "id": "f6c4bc7f",
   "metadata": {},
   "source": [
    "#### XGBoost Classifier is giving a validation accuracy of 85.21%"
   ]
  },
  {
   "cell_type": "markdown",
   "id": "42745943",
   "metadata": {},
   "source": [
    "### As XGBoost Classifier is giving the highest validation accuracy out of the rest we will continue with XGBoost Classifier for the hyperparameter tuning"
   ]
  },
  {
   "cell_type": "markdown",
   "id": "12912077",
   "metadata": {},
   "source": [
    "#### Plotting Max Depth Vs Error "
   ]
  },
  {
   "cell_type": "code",
   "execution_count": 60,
   "id": "b40156cc",
   "metadata": {},
   "outputs": [
    {
     "data": {
      "image/png": "[encoded data removed]",
      "text/plain": [
       "<Figure size 432x288 with 1 Axes>"
      ]
     },
     "metadata": {
      "needs_background": "light"
     },
     "output_type": "display_data"
    }
   ],
   "source": [
    "errors=[]\n",
    "range_n = [3,5,7,8,9,10,12,15]\n",
    "\n",
    "for n in range_n:\n",
    "    model = xgb.XGBClassifier(booster = 'dart', n_estimators = 95 , min_child_weight = 3, max_depth = n, learning_rate = 0.1, \n",
    "                          gamma = 0.5, colsample_bytree = 0.4, eta = 0.1, reg_lambda = 0.2,reg_alpha = 0, scale_pos_weight = 1,\n",
    "                         eval_metric = 'logloss')\n",
    "    model.fit(X_train, y_train)\n",
    "    pred = model.predict(X_test)\n",
    "    errors.append(1-accuracy_score(y_test,pred))\n",
    "    \n",
    "plt.plot(range_n,errors)\n",
    "plt.xlabel('Max Depth')\n",
    "plt.ylabel('Error')\n",
    "plt.show()"
   ]
  },
  {
   "cell_type": "markdown",
   "id": "4906ab0f",
   "metadata": {},
   "source": [
    "#### Plotting Learning Rate Vs Error "
   ]
  },
  {
   "cell_type": "code",
   "execution_count": 61,
   "id": "453f18f4",
   "metadata": {},
   "outputs": [
    {
     "data": {
      "image/png": "[encoded data removed]",
      "text/plain": [
       "<Figure size 432x288 with 1 Axes>"
      ]
     },
     "metadata": {
      "needs_background": "light"
     },
     "output_type": "display_data"
    }
   ],
   "source": [
    "errors=[]\n",
    "range_n = [0.05,0.07,0.08,0.1,0.12,0.15,0.18,0.25]\n",
    "\n",
    "for n in range_n:\n",
    "    model = xgb.XGBClassifier(booster = 'dart', n_estimators = 95 , min_child_weight = 3, max_depth = 8, learning_rate = n, \n",
    "                          gamma = 0.5, colsample_bytree = 0.4, eta = 0.1, reg_lambda = 0.2,reg_alpha = 0, scale_pos_weight = 1,\n",
    "                         eval_metric = 'logloss')\n",
    "    model.fit(X_train, y_train)\n",
    "    pred = model.predict(X_test)\n",
    "    errors.append(1-accuracy_score(y_test,pred))\n",
    "    \n",
    "plt.plot(range_n,errors)\n",
    "plt.xlabel('Learning Rate')\n",
    "plt.ylabel('Error')\n",
    "plt.show()"
   ]
  },
  {
   "cell_type": "markdown",
   "id": "d677de27",
   "metadata": {},
   "source": [
    "#### Plotting Number of Estimators Vs Error"
   ]
  },
  {
   "cell_type": "code",
   "execution_count": 62,
   "id": "ab540034",
   "metadata": {
    "scrolled": true
   },
   "outputs": [
    {
     "data": {
      "image/png": "[encoded data removed]",
      "text/plain": [
       "<Figure size 432x288 with 1 Axes>"
      ]
     },
     "metadata": {
      "needs_background": "light"
     },
     "output_type": "display_data"
    }
   ],
   "source": [
    "errors=[]\n",
    "range_n = [40,50,60,70,80,90,100,110,120,130,140,150,160,170,180]\n",
    "\n",
    "for n in range_n:\n",
    "    model = xgb.XGBClassifier(booster = 'dart', n_estimators = n , min_child_weight = 3, max_depth = 8, learning_rate = 0.1, \n",
    "                          gamma = 0.5, colsample_bytree = 0.4, eta = 0.1, reg_lambda = 0.2,reg_alpha = 0, scale_pos_weight = 1,\n",
    "                         eval_metric = 'logloss')\n",
    "    model.fit(X_train, y_train)\n",
    "    pred = model.predict(X_test)\n",
    "    errors.append(1-accuracy_score(y_test,pred))\n",
    "\n",
    "plt.plot(range_n,errors)\n",
    "plt.xlabel('No. of estimators')\n",
    "plt.ylabel('Error')\n",
    "plt.show()"
   ]
  },
  {
   "cell_type": "markdown",
   "id": "f3864bbf",
   "metadata": {},
   "source": [
    "#### Checking Validation Accuracy after Hyperparameter Tuning"
   ]
  },
  {
   "cell_type": "code",
   "execution_count": 63,
   "id": "b59ee57e",
   "metadata": {},
   "outputs": [
    {
     "data": {
      "text/plain": [
       "0.8579012105910533"
      ]
     },
     "execution_count": 63,
     "metadata": {},
     "output_type": "execute_result"
    }
   ],
   "source": [
    "model = xgb.XGBClassifier(booster = 'dart', n_estimators = 120 ,min_child_weight = 3, max_depth = 9, learning_rate = 0.1, \n",
    "                          gamma = 0.5, colsample_bytree = 0.4, eta = 0.1, reg_lambda = 0.2,reg_alpha = 0, scale_pos_weight = 1,\n",
    "                         eval_metric = 'logloss')\n",
    "\n",
    "model.fit(X_train, y_train)\n",
    "pred = model.predict(X_test)\n",
    "accuracy_score(y_test,pred)"
   ]
  },
  {
   "cell_type": "markdown",
   "id": "2a246cc4",
   "metadata": {},
   "source": [
    "### We get a Validation Accuracy of 85.8%"
   ]
  },
  {
   "cell_type": "markdown",
   "id": "109ced6c",
   "metadata": {},
   "source": [
    "### Ploting the Feature Importance Graph"
   ]
  },
  {
   "cell_type": "code",
   "execution_count": 64,
   "id": "0e92571e",
   "metadata": {},
   "outputs": [
    {
     "data": {
      "image/png": "[encoded data removed]",
      "text/plain": [
       "<Figure size 1000x400 with 1 Axes>"
      ]
     },
     "metadata": {
      "needs_background": "light"
     },
     "output_type": "display_data"
    }
   ],
   "source": [
    "imp = pd.DataFrame(index = X.columns, data = model.feature_importances_, columns = ['Importance'])\n",
    "imp = imp[imp['Importance'] > 0.01]\n",
    "\n",
    "plt.figure(figsize=(10,4),dpi=100)\n",
    "sns.barplot(data = imp.sort_values('Importance'), x = imp.sort_values('Importance').index, y = 'Importance')\n",
    "plt.xticks(rotation=90)\n",
    "plt.show()"
   ]
  },
  {
   "cell_type": "code",
   "execution_count": 65,
   "id": "f1007091",
   "metadata": {},
   "outputs": [],
   "source": [
    "y = df['Fault']\n",
    "\n",
    "a = (np.intersect1d(df.columns, df_test.columns))\n",
    "\n",
    "df_test = df_test.loc[:,a]\n",
    "df= df.loc[:,a]\n",
    "\n",
    "X = df"
   ]
  },
  {
   "cell_type": "markdown",
   "id": "a979b630",
   "metadata": {},
   "source": [
    "## Model is ready to be tested on the test data"
   ]
  },
  {
   "cell_type": "code",
   "execution_count": 66,
   "id": "9c621cc2",
   "metadata": {},
   "outputs": [],
   "source": [
    "model = xgb.XGBClassifier(booster = 'dart', n_estimators = 150, min_child_weight = 3, max_depth = 9, learning_rate = 0.1, \n",
    "                          gamma = 0.5, colsample_bytree = 0.4, eta = 0.1, reg_lambda = 0.2,reg_alpha = 0, scale_pos_weight = 1,\n",
    "                         eval_metric = 'logloss')\n",
    "model.fit(X, y)\n",
    "pred = model.predict(df_test)\n",
    "predicted_df = pd.DataFrame({'Fault': pd.Series([], dtype='int')})\n",
    "\n",
    "predicted_df['Fault'] = pred\n",
    "predicted_df = predicted_df.reset_index()\n",
    "predicted_df.columns = ['Id','Fault']\n",
    "predicted_df.to_csv(\"submission.csv\",index = False)"
   ]
  },
  {
   "cell_type": "markdown",
   "id": "b0bbdf90",
   "metadata": {},
   "source": [
    "### Achieved a Testing Accuracy of 87.1% on Kaggle using a single model"
   ]
  },
  {
   "cell_type": "markdown",
   "id": "e973e50b",
   "metadata": {},
   "source": [
    "## Running 5 models with different hyperparameters"
   ]
  },
  {
   "cell_type": "code",
   "execution_count": 67,
   "id": "61b8ed6e",
   "metadata": {},
   "outputs": [],
   "source": [
    "model = xgb.XGBClassifier(booster = 'dart', n_estimators = 150, min_child_weight = 3, max_depth = 9, learning_rate = 0.1, \n",
    "                          gamma = 0.5, colsample_bytree = 0.4, eta = 0.1, reg_lambda = 0.2,reg_alpha = 0, scale_pos_weight = 1,\n",
    "                         eval_metric = 'logloss')\n",
    "model.fit(X, y)\n",
    "pred = model.predict(df_test)\n",
    "\n",
    "predicted_df = pd.DataFrame({'Fault': pd.Series([], dtype='int')})\n",
    "\n",
    "predicted_df['Fault'] = pred\n",
    "# predicted_df.to_csv(\"hybrid1.csv\")\n",
    "\n",
    "#-------------------------------------------------------------------------------------------------------------------------\n",
    "\n",
    "model = xgb.XGBClassifier(booster = 'dart', n_estimators = 150, min_child_weight = 3, max_depth = 8, learning_rate = 0.3, \n",
    "                          gamma = 0.5, colsample_bytree = 0.4, eta = 0.1, reg_lambda = 0.2,reg_alpha = 0, scale_pos_weight = 1,\n",
    "                         eval_metric = 'logloss')\n",
    "model.fit(X, y)\n",
    "pred = model.predict(df_test)\n",
    "\n",
    "predicted_df = pd.DataFrame({'Fault': pd.Series([], dtype='int')})\n",
    "\n",
    "predicted_df['Fault'] = pred\n",
    "# predicted_df.to_csv(\"hybrid2.csv\")\n",
    "\n",
    "#-------------------------------------------------------------------------------------------------------------------------\n",
    "\n",
    "model = xgb.XGBClassifier(booster = 'dart', n_estimators = 120, min_child_weight = 3, max_depth = 8, learning_rate = 0.4, \n",
    "                          gamma = 0.5, colsample_bytree = 0.4, eta = 0.1, reg_lambda = 0.2,reg_alpha = 0, scale_pos_weight = 1,\n",
    "                         eval_metric = 'logloss')\n",
    "model.fit(X, y)\n",
    "pred = model.predict(df_test)\n",
    "\n",
    "predicted_df = pd.DataFrame({'Fault': pd.Series([], dtype='int')})\n",
    "\n",
    "predicted_df['Fault'] = pred\n",
    "# predicted_df.to_csv(\"hybrid3.csv\")\n",
    "\n",
    "#-------------------------------------------------------------------------------------------------------------------------\n",
    "\n",
    "model = xgb.XGBClassifier(booster = 'dart', n_estimators = 180, min_child_weight = 3, max_depth = 9, learning_rate = 0.4, \n",
    "                          gamma = 0.5, colsample_bytree = 0.4, eta = 0.1, reg_lambda = 0.2,reg_alpha = 0, scale_pos_weight = 1,\n",
    "                         eval_metric = 'logloss')\n",
    "model.fit(X, y)\n",
    "pred = model.predict(df_test)\n",
    "\n",
    "predicted_df = pd.DataFrame({'Fault': pd.Series([], dtype='int')})\n",
    "\n",
    "predicted_df['Fault'] = pred\n",
    "# predicted_df.to_csv(\"hybrid4.csv\")\n",
    "\n",
    "#-------------------------------------------------------------------------------------------------------------------------\n",
    "\n",
    "model = xgb.XGBClassifier(booster = 'dart', n_estimators = 80, min_child_weight = 3, max_depth = 9, learning_rate = 0.3, \n",
    "                          gamma = 0.5, colsample_bytree = 0.4, eta = 0.1, reg_lambda = 0.2,reg_alpha = 0, scale_pos_weight = 1,\n",
    "                         eval_metric = 'logloss')\n",
    "model.fit(X, y)\n",
    "pred = model.predict(df_test)\n",
    "\n",
    "predicted_df = pd.DataFrame({'Fault': pd.Series([], dtype='int')})\n",
    "\n",
    "predicted_df['Fault'] = pred\n",
    "# predicted_df.to_csv(\"hybrid5.csv\")\n",
    "\n",
    "#-------------------------------------------------------------------------------------------------------------------------"
   ]
  },
  {
   "cell_type": "markdown",
   "id": "c4f21ca4",
   "metadata": {},
   "source": [
    "## In order to Push the Accuracy even higher and to get to the top of the leaderboards, we have taken 5 of our best accuracy models and did a majority voting(similar idea as random forests)"
   ]
  },
  {
   "cell_type": "code",
   "execution_count": 68,
   "id": "d7e2ba8c",
   "metadata": {},
   "outputs": [
    {
     "data": {
      "text/html": [
       "<div>\n",
       "<style scoped>\n",
       "    .dataframe tbody tr th:only-of-type {\n",
       "        vertical-align: middle;\n",
       "    }\n",
       "\n",
       "    .dataframe tbody tr th {\n",
       "        vertical-align: top;\n",
       "    }\n",
       "\n",
       "    .dataframe thead th {\n",
       "        text-align: right;\n",
       "    }\n",
       "</style>\n",
       "<table border=\"1\" class=\"dataframe\">\n",
       "  <thead>\n",
       "    <tr style=\"text-align: right;\">\n",
       "      <th></th>\n",
       "      <th>Id</th>\n",
       "      <th>Fault</th>\n",
       "    </tr>\n",
       "  </thead>\n",
       "  <tbody>\n",
       "    <tr>\n",
       "      <th>0</th>\n",
       "      <td>0</td>\n",
       "      <td>1</td>\n",
       "    </tr>\n",
       "    <tr>\n",
       "      <th>1</th>\n",
       "      <td>1</td>\n",
       "      <td>0</td>\n",
       "    </tr>\n",
       "    <tr>\n",
       "      <th>2</th>\n",
       "      <td>2</td>\n",
       "      <td>1</td>\n",
       "    </tr>\n",
       "    <tr>\n",
       "      <th>3</th>\n",
       "      <td>3</td>\n",
       "      <td>1</td>\n",
       "    </tr>\n",
       "    <tr>\n",
       "      <th>4</th>\n",
       "      <td>4</td>\n",
       "      <td>1</td>\n",
       "    </tr>\n",
       "    <tr>\n",
       "      <th>...</th>\n",
       "      <td>...</td>\n",
       "      <td>...</td>\n",
       "    </tr>\n",
       "    <tr>\n",
       "      <th>77230</th>\n",
       "      <td>77230</td>\n",
       "      <td>0</td>\n",
       "    </tr>\n",
       "    <tr>\n",
       "      <th>77231</th>\n",
       "      <td>77231</td>\n",
       "      <td>0</td>\n",
       "    </tr>\n",
       "    <tr>\n",
       "      <th>77232</th>\n",
       "      <td>77232</td>\n",
       "      <td>0</td>\n",
       "    </tr>\n",
       "    <tr>\n",
       "      <th>77233</th>\n",
       "      <td>77233</td>\n",
       "      <td>1</td>\n",
       "    </tr>\n",
       "    <tr>\n",
       "      <th>77234</th>\n",
       "      <td>77234</td>\n",
       "      <td>1</td>\n",
       "    </tr>\n",
       "  </tbody>\n",
       "</table>\n",
       "<p>77235 rows × 2 columns</p>\n",
       "</div>"
      ],
      "text/plain": [
       "          Id  Fault\n",
       "0          0      1\n",
       "1          1      0\n",
       "2          2      1\n",
       "3          3      1\n",
       "4          4      1\n",
       "...      ...    ...\n",
       "77230  77230      0\n",
       "77231  77231      0\n",
       "77232  77232      0\n",
       "77233  77233      1\n",
       "77234  77234      1\n",
       "\n",
       "[77235 rows x 2 columns]"
      ]
     },
     "execution_count": 68,
     "metadata": {},
     "output_type": "execute_result"
    }
   ],
   "source": [
    "sub1 = pd.read_csv('Top 5 CSV/1.csv')\n",
    "sub_f1 = sub1['Fault']\n",
    "\n",
    "sub2 = pd.read_csv('Top 5 CSV/2.csv')\n",
    "sub_f2 = sub2['Fault']\n",
    "\n",
    "sub3 = pd.read_csv('Top 5 CSV/3.csv')\n",
    "sub_f3 = sub3['Fault']\n",
    "\n",
    "sub4 = pd.read_csv('Top 5 CSV/4.csv')\n",
    "sub_f4 = sub4['Fault']\n",
    "\n",
    "sub5 = pd.read_csv('Top 5 CSV/5.csv')\n",
    "sub_f5 = sub5['Fault']\n",
    "\n",
    "\n",
    "final = sub_f1 + sub_f2 + sub_f3 + sub_f4 + sub_f5 \n",
    "final = final/5\n",
    "final = final > 0.5\n",
    "final = np.array(final, dtype = 'int')\n",
    "\n",
    "predicted_df = pd.DataFrame({'Fault': pd.Series([], dtype='int')})\n",
    "\n",
    "predicted_df['Fault'] = final\n",
    "predicted_df = predicted_df.reset_index()\n",
    "predicted_df.columns = ['Id','Fault']\n",
    "predicted_df.to_csv(\"hybrid_submission.csv\",index = False)\n",
    "new = pd.read_csv('hybrid_submission.csv')\n",
    "new"
   ]
  },
  {
   "cell_type": "markdown",
   "id": "789f5e3a",
   "metadata": {},
   "source": [
    "### By majority voting of 5 of our best models we have achieved an accuracy of 88.31% on the Test data"
   ]
  },
  {
   "cell_type": "code",
   "execution_count": null,
   "id": "550b8750",
   "metadata": {},
   "outputs": [],
   "source": []
  }
 ],
 "metadata": {
  "kernelspec": {
   "display_name": "Python 3",
   "language": "python",
   "name": "python3"
  },
  "language_info": {
   "codemirror_mode": {
    "name": "ipython",
    "version": 3
   },
   "file_extension": ".py",
   "mimetype": "text/x-python",
   "name": "python",
   "nbconvert_exporter": "python",
   "pygments_lexer": "ipython3",
   "version": "3.8.8"
  }
 },
 "nbformat": 4,
 "nbformat_minor": 5
}
